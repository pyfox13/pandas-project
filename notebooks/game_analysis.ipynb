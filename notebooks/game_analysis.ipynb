{
 "cells": [
  {
   "cell_type": "code",
   "execution_count": 1,
   "id": "367f360f-5043-44eb-a2d4-689a35a171a8",
   "metadata": {},
   "outputs": [
    {
     "name": "stdout",
     "output_type": "stream",
     "text": [
      "Shape: (51, 7)\n",
      "Columns: ['Console Name', 'Type', 'Company', 'Released Year', 'Discontinuation Year', 'Units sold (million)', 'Remarks']\n",
      "      Console Name      Type   Company  Released Year  Discontinuation Year  \\\n",
      "0    PlayStation 2      Home      Sony           2000                  2013   \n",
      "1      Nintendo DS  Handheld  Nintendo           2004                  2013   \n",
      "2  Nintendo Switch    Hybrid  Nintendo           2017                     0   \n",
      "3         Game Boy  Handheld  Nintendo           1989                  2003   \n",
      "4   Game Boy Color  Handheld  Nintendo           1998                  2003   \n",
      "\n",
      "   Units sold (million)                                            Remarks  \n",
      "0                155.00           Final sales are greater than 155 million  \n",
      "1                154.02                                                NaN  \n",
      "2                122.55                                                NaN  \n",
      "3                 64.42  The Game Boy (1989) and the Game Boy Color (19...  \n",
      "4                 44.06                                                NaN  \n",
      "<class 'pandas.core.frame.DataFrame'>\n",
      "RangeIndex: 51 entries, 0 to 50\n",
      "Data columns (total 7 columns):\n",
      " #   Column                Non-Null Count  Dtype  \n",
      "---  ------                --------------  -----  \n",
      " 0   Console Name          51 non-null     object \n",
      " 1   Type                  51 non-null     object \n",
      " 2   Company               51 non-null     object \n",
      " 3   Released Year         51 non-null     int64  \n",
      " 4   Discontinuation Year  51 non-null     int64  \n",
      " 5   Units sold (million)  51 non-null     float64\n",
      " 6   Remarks               16 non-null     object \n",
      "dtypes: float64(1), int64(2), object(4)\n",
      "memory usage: 2.9+ KB\n"
     ]
    }
   ],
   "source": [
    "import pandas as pd\n",
    "import matplotlib.pyplot as plt\n",
    "\n",
    "\n",
    "# read the csv file from the data folder\n",
    "df = pd.read_csv(\"../data/best_selling_game_consoles.csv\")\n",
    "\n",
    "print(\"Shape:\", df.shape)\n",
    "print(\"Columns:\", df.columns.tolist())\n",
    "print(df.head(5))\n",
    "df.info()\n"
   ]
  },
  {
   "cell_type": "code",
   "execution_count": 2,
   "id": "65f59a3b-73f6-48e7-b570-8f90a65a549a",
   "metadata": {},
   "outputs": [
    {
     "name": "stdout",
     "output_type": "stream",
     "text": [
      "Missing values per column:\n",
      " Console Name             0\n",
      "Type                     0\n",
      "Company                  0\n",
      "Released Year            0\n",
      "Discontinuation Year     0\n",
      "Units sold (million)     0\n",
      "Remarks                 35\n",
      "dtype: int64\n"
     ]
    }
   ],
   "source": [
    "print(\"Missing values per column:\\n\", df.isna().sum())"
   ]
  },
  {
   "cell_type": "markdown",
   "id": "0403f100-32ad-4d5f-9608-b7e04bb4c5b7",
   "metadata": {},
   "source": [
    "looking at the data what we can focus on is Console Name,\n",
    "Company, Type , Discontinuation Year, Released, Units Sold."
   ]
  },
  {
   "cell_type": "code",
   "execution_count": 3,
   "id": "14156e8a-b28b-4e4a-a22a-6eee64660875",
   "metadata": {},
   "outputs": [],
   "source": [
    "# Drop Remarks Column\n",
    "df = df.drop(columns=[\"Remarks\"])"
   ]
  },
  {
   "cell_type": "code",
   "execution_count": 4,
   "id": "d93f33e2-c9c7-4e34-bfba-6b47665046d3",
   "metadata": {},
   "outputs": [
    {
     "name": "stdout",
     "output_type": "stream",
     "text": [
      " Unique consoles ['PlayStation 2' 'Nintendo DS' 'Nintendo Switch' 'Game Boy'\n",
      " 'Game Boy Color' 'PlayStation 4' 'PlayStation' 'Wii' 'PlayStation 3'\n",
      " 'Xbox 360' 'Game Boy Advance' 'PlayStation Portable' 'Nintendo 3DS'\n",
      " 'NES/Famicom' 'Xbox One' 'SNES/Super Famicom' 'Game & Watch'\n",
      " 'Nintendo 64' 'Sega Genesis/Mega Drive' 'PlayStation 5' 'Atari 2600'\n",
      " 'Xbox' 'GameCube' 'Xbox Series X/S' 'Wii U' 'PlayStation Vita'\n",
      " 'Sega Master System' 'Sega Game Gear' 'PC Engine/TurboGrafx-16'\n",
      " 'Sega Saturn' 'Dreamcast' 'Master System(Brazilian variants)'\n",
      " 'Dendy(Famiclone)' 'Super NES Classic Edition' 'Famicom Disk System'\n",
      " 'NES Classic Edition' 'WonderSwan' 'Sega Pico' 'Color TV-Game'\n",
      " 'Intellivision' 'Mega Drive(Brazilian variants)' 'N-Gage' 'Sega CD'\n",
      " 'ColecoVision' 'Magnavox Odyssey' 'PC Engine CD-ROM' 'Atari 7800'\n",
      " 'Atari Lynx' 'Philips CD-i' 'Telstar' 'Atari 5200']\n"
     ]
    }
   ],
   "source": [
    "print(\" Unique consoles\", df[\"Console Name\"].unique())"
   ]
  },
  {
   "cell_type": "code",
   "execution_count": 5,
   "id": "86072b23-f387-4256-8c0c-07d65aba69c3",
   "metadata": {},
   "outputs": [
    {
     "name": "stdout",
     "output_type": "stream",
     "text": [
      "Number of unique consoles: 51\n"
     ]
    }
   ],
   "source": [
    "print(\"Number of unique consoles:\",df[\"Console Name\"].nunique())"
   ]
  },
  {
   "cell_type": "code",
   "execution_count": 6,
   "id": "322af8f4-df10-4ca0-a6d5-6edc0e8f7615",
   "metadata": {},
   "outputs": [],
   "source": [
    "# Lets rename the Units sold (million) to UnitSoldsMillion\n",
    "df = df.rename(columns={\"Units sold (million)\": \"UnitSoldsMillion\"})"
   ]
  },
  {
   "cell_type": "code",
   "execution_count": 7,
   "id": "28b71755-3920-4530-b100-1842605bf51b",
   "metadata": {},
   "outputs": [
    {
     "name": "stdout",
     "output_type": "stream",
     "text": [
      "   Console Name  Company  UnitSoldsMillion\n",
      "  PlayStation 2     Sony            155.00\n",
      "    Nintendo DS Nintendo            154.02\n",
      "Nintendo Switch Nintendo            122.55\n",
      "  PlayStation 4     Sony            117.20\n",
      "    PlayStation     Sony            102.49\n"
     ]
    }
   ],
   "source": [
    "# Explaratory Analysis\n",
    "#Top 5 Best Selling Consoles\n",
    "top5 = df.nlargest(5, \"UnitSoldsMillion\")[[\"Console Name\", \"Company\", \"UnitSoldsMillion\"]]\n",
    "print(top5.to_string(index=False))"
   ]
  },
  {
   "cell_type": "markdown",
   "id": "a2425ee5-d854-4f2d-ac41-0e42fd45ead3",
   "metadata": {},
   "source": [
    "# The insights from the above \n",
    "- These five dominate the all time charts. Notably, Sony's Playstation 2 is the\n",
    "  best selling console ever, slighty ahead of the handheld Nintendo DS.\n",
    "- The switch has nearly made same amount of money as the Nintendo Ds has so far within same time frame despite being new as well experimental."
   ]
  },
  {
   "cell_type": "code",
   "execution_count": 10,
   "id": "e942b425-544a-4a9d-b1da-e25399174585",
   "metadata": {},
   "outputs": [
    {
     "name": "stdout",
     "output_type": "stream",
     "text": [
      "Console Name            PlayStation 2\n",
      "Type                             Home\n",
      "Company                          Sony\n",
      "Released Year                    2000\n",
      "Discontinuation Year             2013\n",
      "UnitSoldsMillion                155.0\n",
      "Name: 0, dtype: object\n"
     ]
    }
   ],
   "source": [
    "best = df.loc[df['UnitSoldsMillion'].idxmax()]\n",
    "print(best)"
   ]
  },
  {
   "cell_type": "code",
   "execution_count": 13,
   "id": "5d2dd2e4-3f04-4c8a-82de-3bd02898fa53",
   "metadata": {},
   "outputs": [
    {
     "name": "stdout",
     "output_type": "stream",
     "text": [
      "Company\n",
      "Nintendo                   883.11\n",
      "Sony                       589.09\n",
      "Microsoft                  185.00\n",
      "Sega                        78.40\n",
      "Atari                       33.00\n",
      "Tectoy                      11.00\n",
      "NEC/Hudson Soft[note 6]     10.00\n",
      "Micro Genius                 6.00\n",
      "Bandai                       3.50\n",
      "Coleco                       3.00\n",
      "Mattel                       3.00\n",
      "Nokia                        3.00\n",
      "Magnavox/Philips             2.00\n",
      "NEC                          1.92\n",
      "Philips                      1.00\n",
      "Name: UnitSoldsMillion, dtype: float64\n"
     ]
    }
   ],
   "source": [
    "# market share by company\n",
    "company_sales = df.groupby(\"Company\")[\"UnitSoldsMillion\"].sum().sort_values(ascending=False)\n",
    "print(company_sales)"
   ]
  },
  {
   "cell_type": "markdown",
   "id": "2781677e-172f-4a6e-9a7e-4fede6beba9f",
   "metadata": {},
   "source": [
    "# Insights \n",
    "Nitendo dominates in sales compared to all other game console developing companies.\n",
    "Nitendo is the only japanese console developing company that hits over 100 million sales.\n",
    "Nitendo has more consoles compared to the other runner ups equalling out more sales in general."
   ]
  },
  {
   "cell_type": "code",
   "execution_count": 16,
   "id": "fd38cffb-0028-4f20-be3b-544c3c179554",
   "metadata": {},
   "outputs": [
    {
     "name": "stdout",
     "output_type": "stream",
     "text": [
      "Type\n",
      "Home                   1090.50\n",
      "Handheld                578.47\n",
      "Hybrid                  122.55\n",
      "Dedicated                12.84\n",
      "Home console add-on       8.66\n",
      "Name: UnitSoldsMillion, dtype: float64\n"
     ]
    }
   ],
   "source": [
    "# Home vs Handheld Console Sales\n",
    "type_sales = df.groupby(\"Type\")[\"UnitSoldsMillion\"].sum().sort_values(ascending=False)\n",
    "print(type_sales)"
   ]
  },
  {
   "cell_type": "markdown",
   "id": "2792c91c-9582-409d-a3be-7787cfea3076",
   "metadata": {},
   "source": [
    "# Insights\n",
    "Hometype consoles like playstation, Xbox, etc, have a higher combined sales, more than double handhelds."
   ]
  },
  {
   "cell_type": "code",
   "execution_count": 34,
   "id": "730ca507-9007-4d4f-9957-06f5939b668a",
   "metadata": {},
   "outputs": [
    {
     "name": "stdout",
     "output_type": "stream",
     "text": [
      "   Decade  UnitSoldsMillion\n",
      "3    2000         79.430000\n",
      "4    2010         51.448750\n",
      "5    2020         24.250000\n",
      "2    1990         21.286923\n",
      "1    1980         17.564286\n",
      "0    1970          9.000000\n"
     ]
    }
   ],
   "source": [
    "# Average by decade\n",
    "df[\"Decade\"] = (df['Released Year']//10)*10\n",
    "decade_sales = df.groupby(\"Decade\")[\"UnitSoldsMillion\"].mean().reset_index().sort_values(by=\"UnitSoldsMillion\",ascending=False)\n",
    "print(decade_sales)"
   ]
  },
  {
   "cell_type": "code",
   "execution_count": 36,
   "id": "55ec92a2-279c-4093-9eac-12b8a5c9a839",
   "metadata": {},
   "outputs": [
    {
     "name": "stdout",
     "output_type": "stream",
     "text": [
      "                    Company  UnitSoldsMillion\n",
      "0                     Atari          8.250000\n",
      "1                    Bandai          3.500000\n",
      "2                    Coleco          1.500000\n",
      "3          Magnavox/Philips          2.000000\n",
      "4                    Mattel          3.000000\n",
      "5              Micro Genius          6.000000\n",
      "6                 Microsoft         46.250000\n",
      "7                       NEC          1.920000\n",
      "8   NEC/Hudson Soft[note 6]         10.000000\n",
      "9                  Nintendo         51.947647\n",
      "10                    Nokia          3.000000\n",
      "11                  Philips          1.000000\n",
      "12                     Sega         11.200000\n",
      "13                     Sony         84.155714\n",
      "14                   Tectoy          5.500000\n"
     ]
    }
   ],
   "source": [
    "# company consistency\n",
    "avg_sales = df.groupby(\"Company\")[\"UnitSoldsMillion\"].mean().reset_index()\n",
    "print(avg_sales)"
   ]
  },
  {
   "cell_type": "markdown",
   "id": "170f2104-0b7c-4cbc-93ff-1720dc63e179",
   "metadata": {},
   "source": [
    "Insight: Sony is very consistent. Nitendo is more mixed. "
   ]
  },
  {
   "cell_type": "markdown",
   "id": "41b51301-a857-4000-98a0-4acafcb27c21",
   "metadata": {},
   "source": [
    "# Key Takeways:\n",
    "- Top console: PS4\n",
    "- Market Share: Nitendo\n",
    "- By Type: Home consoles sold the most overall\n",
    "- Trend: consoles released after 2000 sold much more than earlier\n",
    "- Company pattern: Sony is the most consistent, Nitendo is more mixed with high and lows and Microsoft is consistent overall but less sales overall."
   ]
  }
 ],
 "metadata": {
  "kernelspec": {
   "display_name": "Python 3 (ipykernel)",
   "language": "python",
   "name": "python3"
  },
  "language_info": {
   "codemirror_mode": {
    "name": "ipython",
    "version": 3
   },
   "file_extension": ".py",
   "mimetype": "text/x-python",
   "name": "python",
   "nbconvert_exporter": "python",
   "pygments_lexer": "ipython3",
   "version": "3.13.2"
  }
 },
 "nbformat": 4,
 "nbformat_minor": 5
}
