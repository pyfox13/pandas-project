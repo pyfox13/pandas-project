{
 "cells": [
  {
   "cell_type": "code",
   "execution_count": 1,
   "id": "d338987c-d1ee-4c90-8f98-65dfd4fc4db6",
   "metadata": {},
   "outputs": [],
   "source": [
    "import pandas as pd"
   ]
  },
  {
   "cell_type": "code",
   "execution_count": 2,
   "id": "813d7da0-e51f-4c7b-8327-438836ecbc17",
   "metadata": {},
   "outputs": [
    {
     "name": "stdout",
     "output_type": "stream",
     "text": [
      "Pandas version: 2.3.1\n"
     ]
    }
   ],
   "source": [
    "print(\"Pandas version:\", pd.__version__)"
   ]
  },
  {
   "cell_type": "markdown",
   "id": "3fbfdd64-ac58-4963-9aaf-96db065d79a5",
   "metadata": {},
   "source": [
    "Pandas introduces two primary data structures: Series and DataFrame, along with an Index \n",
    "that labels tha data.\n",
    "Series: Its a one-dimensional array of data with an index (like a labeled column of values).\n",
    "DataFrame: DataFrame is a two-dimensional table of data, consisting of multiple Series \n",
    "that share the same index(like a spreedsheet or SQL table).\n",
    "The index is a set of labels for each row (and each column, in the case of column names),\n",
    "by default, Pandas assings an integer index starting from 0 for each row.\n",
    "Why do we use pandas?\n",
    "In real-world data analysis, you will oftern actually work with dataset\n",
    "( csv files, databases, JSON APIS, etc). That would need cleaning, transformation and summarization.\n",
    "Pandas provids high-levl data structures and functions that makes these tasks easy. \n",
    "Its built on Numpy, and it gives high performace of numerical data."
   ]
  },
  {
   "cell_type": "code",
   "execution_count": 9,
   "id": "602b55a4-3075-4c13-9ec1-2a3679dbaea1",
   "metadata": {},
   "outputs": [
    {
     "name": "stdout",
     "output_type": "stream",
     "text": [
      "Series of Scores:\n",
      "Alice      89\n",
      "Bob        90\n",
      "Charlie    88\n",
      "Dana       88\n",
      "dtype: int64 \n",
      "\n"
     ]
    }
   ],
   "source": [
    "# create a Series of exam scores\n",
    "scores = pd.Series([89, 90, 88, 88], index=[\"Alice\", \"Bob\", \"Charlie\", \"Dana\"])\n",
    "print(\"Series of Scores:\")\n",
    "print(scores, \"\\n\")"
   ]
  },
  {
   "cell_type": "code",
   "execution_count": 14,
   "id": "dae29a06-b8d9-47b5-ba43-6352cbc87f0e",
   "metadata": {},
   "outputs": [
    {
     "name": "stdout",
     "output_type": "stream",
     "text": [
      "      Name  Age City  Score\n",
      "0    Alice   45   NY     89\n",
      "1      Bob   33   LA     90\n",
      "2  Charlie   55   NY     88\n",
      "3     Dana   22   TX     88\n"
     ]
    }
   ],
   "source": [
    "# Create a Dataframe of students with multiple columns\n",
    "data = {\n",
    "    \"Name\": [ \"Alice\", \"Bob\", \"Charlie\", \"Dana\" ],\n",
    "    \"Age\": [45, 33, 55, 22],\n",
    "    \"City\": [\"NY\", \"LA\", \"NY\", \"TX\"],\n",
    "    \"Score\": [89, 90, 88, 88]\n",
    "}\n",
    "df = pd.DataFrame(data)\n",
    "print(df)"
   ]
  }
 ],
 "metadata": {
  "kernelspec": {
   "display_name": "Python 3 (ipykernel)",
   "language": "python",
   "name": "python3"
  },
  "language_info": {
   "codemirror_mode": {
    "name": "ipython",
    "version": 3
   },
   "file_extension": ".py",
   "mimetype": "text/x-python",
   "name": "python",
   "nbconvert_exporter": "python",
   "pygments_lexer": "ipython3",
   "version": "3.13.2"
  }
 },
 "nbformat": 4,
 "nbformat_minor": 5
}
