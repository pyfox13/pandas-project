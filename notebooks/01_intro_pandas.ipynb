{
 "cells": [
  {
   "cell_type": "code",
   "execution_count": 1,
   "id": "d338987c-d1ee-4c90-8f98-65dfd4fc4db6",
   "metadata": {},
   "outputs": [],
   "source": [
    "import pandas as pd\n",
    "from io import StringIO"
   ]
  },
  {
   "cell_type": "code",
   "execution_count": 2,
   "id": "813d7da0-e51f-4c7b-8327-438836ecbc17",
   "metadata": {},
   "outputs": [
    {
     "name": "stdout",
     "output_type": "stream",
     "text": [
      "Pandas version: 2.3.1\n"
     ]
    }
   ],
   "source": [
    "print(\"Pandas version:\", pd.__version__)"
   ]
  },
  {
   "cell_type": "markdown",
   "id": "3fbfdd64-ac58-4963-9aaf-96db065d79a5",
   "metadata": {},
   "source": [
    "Pandas introduces two primary data structures: Series and DataFrame, along with an Index \n",
    "that labels tha data.\n",
    "Series: Its a one-dimensional array of data with an index (like a labeled column of values).\n",
    "DataFrame: DataFrame is a two-dimensional table of data, consisting of multiple Series \n",
    "that share the same index(like a spreedsheet or SQL table).\n",
    "The index is a set of labels for each row (and each column, in the case of column names),\n",
    "by default, Pandas assings an integer index starting from 0 for each row.\n",
    "Why do we use pandas?\n",
    "In real-world data analysis, you will oftern actually work with dataset\n",
    "( csv files, databases, JSON APIS, etc). That would need cleaning, transformation and summarization.\n",
    "Pandas provids high-levl data structures and functions that makes these tasks easy. \n",
    "Its built on Numpy, and it gives high performace of numerical data."
   ]
  },
  {
   "cell_type": "code",
   "execution_count": 3,
   "id": "602b55a4-3075-4c13-9ec1-2a3679dbaea1",
   "metadata": {},
   "outputs": [
    {
     "name": "stdout",
     "output_type": "stream",
     "text": [
      "Series of Scores:\n",
      "Alice      89\n",
      "Bob        90\n",
      "Charlie    88\n",
      "Dana       88\n",
      "dtype: int64 \n",
      "\n"
     ]
    }
   ],
   "source": [
    "# create a Series of exam scores\n",
    "scores = pd.Series((89, 90, 88, 88), index=[\"Alice\", \"Bob\", \"Charlie\", \"Dana\"])\n",
    "print(\"Series of Scores:\")\n",
    "print(scores, \"\\n\")\n"
   ]
  },
  {
   "cell_type": "code",
   "execution_count": 4,
   "id": "cb79846b-20da-4cca-95a5-43c96f406194",
   "metadata": {},
   "outputs": [
    {
     "name": "stdout",
     "output_type": "stream",
     "text": [
      "Index of df: Index(['Alice', 'Bob', 'Charlie', 'Dana'], dtype='object')\n"
     ]
    }
   ],
   "source": [
    "print(\"Index of df:\", scores.index)"
   ]
  },
  {
   "cell_type": "code",
   "execution_count": 5,
   "id": "be55f202-c78b-4275-b42d-3a2d8a5acd69",
   "metadata": {},
   "outputs": [
    {
     "name": "stdout",
     "output_type": "stream",
     "text": [
      "      Name  Age City  Score\n",
      "0    Alice   45   NY     89\n",
      "1      Bob   33   LA     90\n",
      "2  Charlie   55   NY     88\n",
      "3     Dana   22   TX     88\n"
     ]
    }
   ],
   "source": [
    "# Create a Dataframe of students with multiple columns\n",
    "data = {\n",
    "    \"Name\": [ \"Alice\", \"Bob\", \"Charlie\", \"Dana\" ],\n",
    "    \"Age\": [45, 33, 55, 22],\n",
    "    \"City\": [\"NY\", \"LA\", \"NY\", \"TX\"],\n",
    "    \"Score\": [89, 90, 88, 88]\n",
    "}\n",
    "df = pd.DataFrame(data)\n",
    "print(df)"
   ]
  },
  {
   "cell_type": "code",
   "execution_count": 6,
   "id": "baad255a-a450-49db-a7fa-7527550e7e9d",
   "metadata": {},
   "outputs": [
    {
     "name": "stdout",
     "output_type": "stream",
     "text": [
      "Columns of df: Index(['Name', 'Age', 'City', 'Score'], dtype='object')\n"
     ]
    }
   ],
   "source": [
    "print(\"Columns of df:\", df.columns)"
   ]
  },
  {
   "cell_type": "code",
   "execution_count": 8,
   "id": "059fd9a4-6873-4179-b0c4-a37b5d2984ca",
   "metadata": {},
   "outputs": [
    {
     "name": "stdout",
     "output_type": "stream",
     "text": [
      "DataFrame read from CSV:\n",
      "      Name  Age City\n",
      "0    Alice   45   NY\n",
      "1      Bob   33   LA\n",
      "2  Charlie   55   NY\n",
      "3     Dana   22   TX \n",
      "\n",
      "DataFrame has been written to the file\n"
     ]
    }
   ],
   "source": [
    "# creating csv data ( comma seperated values )\n",
    "csv_data = \"\"\"Name,Age,City\n",
    "Alice,45,NY\n",
    "Bob,33,LA\n",
    "Charlie,55,NY\n",
    "Dana,22,TX\n",
    "\"\"\"\n",
    "# Use StringIo to simulate a file object from the string ( for demo purposes )\n",
    "\n",
    "df = pd.read_csv(StringIO(csv_data))\n",
    "print(\"DataFrame read from CSV:\")\n",
    "print(df,\"\\n\")\n",
    "\n",
    "\n",
    "# Now write this Dataframe to an Excel file ( this will actually create an actual file 'people.xlsx'\n",
    "df.to_excel(\"people.xlsx\", index=False) # index=False to omits the index in the file\n",
    "\n",
    "print(\"DataFrame has been written to the file\")\n",
    "\n",
    "# In the code above pd.read_csv was used to parse CSV data. in practice, you would\n",
    "# pd.read_csv(\"path/to/your/file.csv\")"
   ]
  },
  {
   "cell_type": "code",
   "execution_count": 13,
   "id": "397ae099-e987-4024-8f71-f491f768e3af",
   "metadata": {},
   "outputs": [
    {
     "name": "stdout",
     "output_type": "stream",
     "text": [
      "DataFrame read from JSON:\n",
      "  Name  Score\n",
      "0    X      5\n",
      "1    Y      7\n",
      "DataFrame has been written to 'sample.json'\n"
     ]
    },
    {
     "name": "stderr",
     "output_type": "stream",
     "text": [
      "/var/folders/6z/6f9t9fvd78ndfhydznyqv3vc0000gn/T/ipykernel_4824/2034877886.py:3: FutureWarning: Passing literal json to 'read_json' is deprecated and will be removed in a future version. To read from a literal string, wrap it in a 'StringIO' object.\n",
      "  df_json = pd.read_json(json_data)\n"
     ]
    }
   ],
   "source": [
    "# JSON string example\n",
    "json_data = '[{\"Name\": \"X\", \"Score\": 5}, {\"Name\": \"Y\", \"Score\": 7}]'\n",
    "df_json = pd.read_json(json_data)\n",
    "print(\"DataFrame read from JSON:\")\n",
    "print(df_json)\n",
    "\n",
    "# Write DataFrame to JSON File\n",
    "df_json.to_json(\"Sample.json\", orient=\"records\")\n",
    "print(\"DataFrame has been written to 'sample.json'\")\n"
   ]
  },
  {
   "cell_type": "code",
   "execution_count": 16,
   "id": "431b809f-3142-4e0c-8a46-7ee39072f41b",
   "metadata": {},
   "outputs": [
    {
     "name": "stdout",
     "output_type": "stream",
     "text": [
      "  Product  Price  Quantity\n",
      "0  widget     23        33\n",
      "1  Gadget     34        44\n",
      "DataFrame has been written to products.csv\n"
     ]
    }
   ],
   "source": [
    "product_data = {\n",
    "    \"Product\": [\"widget\", \"Gadget\"],\n",
    "    \"Price\": [23,34],\n",
    "    \"Quantity\": [33,44]\n",
    "}\n",
    "df = pd.DataFrame(product_data)\n",
    "print(df)\n",
    "# Write DataFrame to csv file\n",
    "df.to_csv(\"products.csv\", index=False)\n",
    "print(\"DataFrame has been written to products.csv\")"
   ]
  },
  {
   "cell_type": "code",
   "execution_count": 17,
   "id": "495a3dd3-3ba4-4845-8799-2897f350db9b",
   "metadata": {},
   "outputs": [
    {
     "name": "stdout",
     "output_type": "stream",
     "text": [
      "  Product  Price  Quantity\n",
      "0  widget     23        33\n",
      "1  Gadget     34        44\n"
     ]
    }
   ],
   "source": [
    "# Reading from the csv file\n",
    "df = pd.read_csv(\"products.csv\")\n",
    "print(df)"
   ]
  },
  {
   "cell_type": "code",
   "execution_count": 18,
   "id": "ebb18946-e1b8-4d49-b067-50955aacd6c9",
   "metadata": {},
   "outputs": [
    {
     "name": "stdout",
     "output_type": "stream",
     "text": [
      "      Name  Age City\n",
      "0    Alice   45   NY\n",
      "1      Bob   33   LA\n",
      "2  Charlie   55   NY\n",
      "3     Dana   22   TX\n"
     ]
    }
   ],
   "source": [
    "# Reading from the excel file\n",
    "df = pd.read_excel(\"people.xlsx\")\n",
    "print(df)"
   ]
  },
  {
   "cell_type": "code",
   "execution_count": 19,
   "id": "612b0764-88e0-4ac0-8bc8-7a8d12a5ec5d",
   "metadata": {},
   "outputs": [
    {
     "name": "stdout",
     "output_type": "stream",
     "text": [
      "  Name  Score\n",
      "0    X      5\n",
      "1    Y      7\n"
     ]
    }
   ],
   "source": [
    "# Reading from the JSON file\n",
    "df = pd.read_json('Sample.json')\n",
    "print(df)"
   ]
  },
  {
   "cell_type": "markdown",
   "id": "8aac4cfb-b069-4f4a-a24e-3458e01102ba",
   "metadata": {},
   "source": [
    "Once data is loaded into a DataFrame, the first step is to inspect it.\n",
    "Its shape, structure and basic statistics."
   ]
  },
  {
   "cell_type": "markdown",
   "id": "a0a847ac-f759-49e3-89b7-7862c7be37ef",
   "metadata": {},
   "source": [
    "# this if for dataframe\n",
    "df.head(n) - view the first n rows ( default is 5)\n",
    "df.tail(n) - view the last n rows\n",
    "df.shape - get the number of rows and columns as tuple (n_rows, n_cols)\n",
    "df.columns - get the column labels\n",
    "df.index - get the index ( row labels)\n",
    "df.dtypes - data types of each column\n",
    "df.info() - concise summary: shows the index range, column names,\n",
    "            non-null counts, and dtypes.\n",
    "df.describe() - descriptive statics for numeric columns\n",
    "              (count, mean, std, min, quartiles, max)\n",
    "if we pass include='all', it will attempt to summarize non-numerical columns.\n",
    "(example count of unique, top value frequency)\n",
    "\n",
    "# series\n",
    "ser.value_counts() - frequency count of unique values\n",
    "ser.unique() - array of unique values\n",
    "ser.mean(), ser.min(), ser.max(), ser.sum(), ser.median() common statistics\n",
    "ser.isna()- Boolean series indicating missing values (Nans)"
   ]
  },
  {
   "cell_type": "markdown",
   "id": "fd9c838b-b13c-4668-baaa-4d128c8292f2",
   "metadata": {},
   "source": [
    "Whenever you get a new dataset, you should always perform an initial exploration.\n",
    "For example, if you're analyzing a dataset of customer purchases-\n",
    "How many records are there?\n",
    "What columns(features) does it have?\n",
    "Are they numeric, categorical, dates?\n",
    "Are there missing values to worry about?\n",
    "What are the ranges of typical values of numerical values ( describe())?\n",
    "Do any columns have suspicous values ( like negative values, or ages )"
   ]
  },
  {
   "cell_type": "code",
   "execution_count": 36,
   "id": "8b99a537-1632-403e-bd2f-f633453d4d32",
   "metadata": {},
   "outputs": [
    {
     "name": "stdout",
     "output_type": "stream",
     "text": [
      "Frist 3 rows:\n",
      "       Name  Age City  Score\n",
      "0    Alice   45   NY     89\n",
      "1      Bob   33   LA     90\n",
      "2  Charlie   55   NY     88 \n",
      "\n",
      "DataFrame shape (4, 4)\n",
      "Columns: Index(['Name', 'Age', 'City', 'Score'], dtype='object')\n",
      "Data types:\n",
      " Name     object\n",
      "Age       int64\n",
      "City     object\n",
      "Score     int64\n",
      "dtype: object \n",
      "\n",
      "<class 'pandas.core.frame.DataFrame'>\n",
      "RangeIndex: 4 entries, 0 to 3\n",
      "Data columns (total 4 columns):\n",
      " #   Column  Non-Null Count  Dtype \n",
      "---  ------  --------------  ----- \n",
      " 0   Name    4 non-null      object\n",
      " 1   Age     4 non-null      int64 \n",
      " 2   City    4 non-null      object\n",
      " 3   Score   4 non-null      int64 \n",
      "dtypes: int64(2), object(2)\n",
      "memory usage: 260.0+ bytes\n",
      "\n",
      "Summary statistics\n",
      "              Age      Score\n",
      "count   4.000000   4.000000\n",
      "mean   38.750000  88.750000\n",
      "std    14.338177   0.957427\n",
      "min    22.000000  88.000000\n",
      "25%    30.250000  88.000000\n",
      "50%    39.000000  88.500000\n",
      "75%    47.500000  89.250000\n",
      "max    55.000000  90.000000\n",
      "0    NY\n",
      "1    LA\n",
      "2    NY\n",
      "3    TX\n",
      "Name: City, dtype: object\n",
      "Unique cities: ['NY' 'LA' 'TX']\n",
      "Counts of each city:\n",
      " City\n",
      "NY    2\n",
      "LA    1\n",
      "TX    1\n",
      "Name: count, dtype: int64\n"
     ]
    }
   ],
   "source": [
    "# Code Demo\n",
    "data = {\n",
    "    \"Name\": [ \"Alice\", \"Bob\", \"Charlie\", \"Dana\" ],\n",
    "    \"Age\": [45, 33, 55, 22],\n",
    "    \"City\": [\"NY\", \"LA\", \"NY\", \"TX\"],\n",
    "    \"Score\": [89, 90, 88, 88]\n",
    "}\n",
    "df = pd.DataFrame(data)\n",
    "\n",
    "print(\"Frist 3 rows:\\n\", df.head(3),\"\\n\" )\n",
    "print(\"DataFrame shape\", df.shape)\n",
    "print(\"Columns:\", df.columns)\n",
    "print(\"Data types:\\n\",df.dtypes,\"\\n\")\n",
    "df.info() # prints info to console\n",
    "print(\"\\nSummary statistics\\n\",df.describe())\n",
    "print(df[\"City\"])\n",
    "print(\"Unique cities:\", df[\"City\"].unique())\n",
    "print(\"Counts of each city:\\n\", df[\"City\"].value_counts())"
   ]
  },
  {
   "cell_type": "code",
   "execution_count": null,
   "id": "ebc61201-c15d-419d-8df1-b41f928cc2e0",
   "metadata": {},
   "outputs": [],
   "source": []
  }
 ],
 "metadata": {
  "kernelspec": {
   "display_name": "Python 3 (ipykernel)",
   "language": "python",
   "name": "python3"
  },
  "language_info": {
   "codemirror_mode": {
    "name": "ipython",
    "version": 3
   },
   "file_extension": ".py",
   "mimetype": "text/x-python",
   "name": "python",
   "nbconvert_exporter": "python",
   "pygments_lexer": "ipython3",
   "version": "3.13.2"
  }
 },
 "nbformat": 4,
 "nbformat_minor": 5
}
